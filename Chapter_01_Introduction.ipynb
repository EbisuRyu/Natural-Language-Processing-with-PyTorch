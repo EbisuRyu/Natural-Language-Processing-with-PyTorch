{
 "cells": [
  {
   "cell_type": "markdown",
   "metadata": {},
   "source": [
    "👋 Chào mọi người! Mình là Long, đây là bài đầu tiên trong chuỗi các bài học mà mình đã lĩnh hội được qua cuốn sách *Natural Language Processing with PyTorch*. Hy vọng bạn sẽ tìm thấy những điều bổ ích qua những chia sẻ của mình. Chúng ta sẽ bắt đầu với chương đầu tiên: **Chapter 1: Introduction**. 📚"
   ]
  },
  {
   "cell_type": "markdown",
   "metadata": {},
   "source": [
    "#### **Trước tiên, bạn hãy tự hỏi: NLP là gì?**"
   ]
  },
  {
   "cell_type": "markdown",
   "metadata": {},
   "source": [
    "- Ở đây, tác giả giải thích rằng NLP (Natural Language Processing) là tập hợp các kỹ thuật sử dụng phương pháp thống kê, có thể có hoặc không có sự hỗ trợ từ kiến thức ngôn ngữ học, nhằm hiểu và xử lý văn bản để giải quyết các nhiệm vụ thực tế. 📚\n",
    "\n",
    "- Cách \"hiểu\" văn bản trong NLP chủ yếu được thực hiện bằng cách chuyển đổi văn bản thành các dạng biểu diễn tính toán có thể sử dụng, như các cấu trúc rời rạc hoặc liên tục (ví dụ: tensors, vectors), đồ thị (graph) hoặc cây (tree). Những cấu trúc này giúp máy tính hiểu và xử lý thông tin từ văn bản để thực hiện các nhiệm vụ cụ thể, như dịch thuật, nhận dạng giọng nói hay trả lời câu hỏi. 🤖📖"
   ]
  },
  {
   "cell_type": "markdown",
   "metadata": {},
   "source": [
    "#### **Mục tiêu của Machine Learning và Deep Learning là gì?** 🎯"
   ]
  },
  {
   "cell_type": "markdown",
   "metadata": {},
   "source": [
    "Mục tiêu của **machine learning** là **học cách xây dựng các biểu diễn phù hợp từ dữ liệu**, và trong trường hợp này là từ dữ liệu văn bản. Mặc dù việc áp dụng machine learning vào văn bản đã được thực hiện suốt hơn ba thập kỷ qua, nhưng trong 10 năm gần đây, một nhóm các kỹ thuật gọi là **deep learning** đã nổi lên, không ngừng phát triển và chứng minh được hiệu quả vượt trội qua nhiều tác vụ AI trong lĩnh vực xử lý ngôn ngữ tự nhiên (NLP). 🚀\n",
    "\n",
    "**Học sâu (deep learning)** mang lại khả năng học các biểu diễn (representations) từ dữ liệu một cách hiệu quả thông qua một khái niệm trừu tượng mạnh mẽ gọi là **đồ thị tính toán (computational graph)**, kết hợp với **tối ưu hóa số học (numerical optimization)**.\n",
    "\n",
    "- **Đồ thị tính toán** cung cấp một cấu trúc có tổ chức để mô hình hóa các mối quan hệ phức tạp giữa các yếu tố trong dữ liệu. Trong đó, các **nút (nodes)** thể hiện các phép toán hoặc biến, và các **cạnh (edges)** phản ánh sự phụ thuộc lẫn nhau giữa chúng. 🧠\n",
    "- **Tối ưu hóa số học** đóng vai trò quan trọng trong việc điều chỉnh các tham số của mô hình (chẳng hạn như trọng số trong mạng nơ-ron) thông qua quá trình tối thiểu hóa hoặc tối đa hóa một hàm mục tiêu. Phương pháp phổ biến nhất để thực hiện điều này là sử dụng các thuật toán dựa trên gradient, như **lan truyền ngược (backpropagation)**. 📈\n",
    "\n",
    "Sự kết hợp này tạo ra khả năng học từ lượng dữ liệu khổng lồ, giúp các mô hình học sâu ngày càng cải thiện hiệu suất trong các tác vụ như phân loại, hồi quy và nhiều lĩnh vực khác. 🔍\n",
    "\n",
    "Với sự phát triển vượt bậc của học sâu và đồ thị tính toán, các công ty công nghệ hàng đầu như **Google**, **Facebook** và **Amazon** đã tung ra các thư viện và framework đồ thị tính toán dựa trên học sâu, thu hút sự chú ý mạnh mẽ từ cộng đồng nghiên cứu và kỹ sư. Điều này khẳng định tầm quan trọng và hiệu quả vượt trội của học sâu trong việc giải quyết những bài toán phức tạp. 💡"
   ]
  },
  {
   "cell_type": "markdown",
   "metadata": {},
   "source": [
    "#### **Nội dung của chương** 📚"
   ]
  },
  {
   "cell_type": "markdown",
   "metadata": {},
   "source": [
    "Trong cuốn sách này, **PyTorch** được chọn làm framework chính để triển khai các thuật toán học sâu. PyTorch là một framework đồ thị tính toán phát triển bằng Python, nổi bật với tính dễ sử dụng và sự linh hoạt, hiện đang ngày càng được ưa chuộng. 🚀\n",
    "\n",
    "Lĩnh vực **machine learning** và **deep learning** rất rộng lớn, và trong chương này, cũng như phần lớn các chương trong cuốn sách, tác giả sẽ tập trung vào một nhánh quan trọng, đó là **học có giám sát (supervised learning)** – phương pháp học với các nhãn huấn luyện.\n",
    "\n",
    "**Mục tiêu của chương này là:**\n",
    "\n",
    "- 🏗 **Xây dựng một nền tảng vững chắc về mô hình học có giám sát**, giúp hiểu rõ các thuật ngữ và phát triển một khung lý thuyết để tiếp cận các nhiệm vụ học máy trong các chương tiếp theo.\n",
    "- 💻 **Học cách mã hóa đầu vào** cho các nhiệm vụ học máy.\n",
    "- 🧠 **Hiểu rõ về các đồ thị tính toán** (computational graphs).\n",
    "- 🔧 **Nắm vững các kiến thức cơ bản về PyTorch.**"
   ]
  },
  {
   "cell_type": "markdown",
   "metadata": {},
   "source": [
    "#### **The Supervised Learning Paradigm**  📚"
   ]
  },
  {
   "cell_type": "markdown",
   "metadata": {},
   "source": [
    "**Học có giám sát** là một nhánh quan trọng của học máy, đề cập đến các trường hợp mà giá trị thực (**ground truth**) của mục tiêu – tức những gì cần dự đoán – có sẵn cho từng mẫu trong bộ dữ liệu. 📊\n",
    "\n",
    "![images/chapter_01_figure_01.png](./images/chapter_01_figure_01.png)\n",
    "\n",
    "---\n",
    "\n",
    "Chúng ta có thể chia bài toán học có giám sát thành **6 thành phần chính**:\n",
    "\n",
    "1. **Observations** (Quan sát):  \n",
    "   Đây là các mẫu mà chúng ta muốn dự đoán, thường được ký hiệu là $x$. Các quan sát có thể được coi là đầu vào (input) của mô hình.  \n",
    "\n",
    "2. **Targets** (Mục tiêu):  \n",
    "   Đây là các nhãn tương ứng với từng quan sát, được ký hiệu là $y$. Targets còn được gọi là **ground truth**, đại diện cho giá trị thực mà mô hình cần học.  \n",
    "\n",
    "3. **Model** (Mô hình):  \n",
    "   Mô hình là một biểu thức toán học hoặc hàm số có nhiệm vụ nhận đầu vào $x$ và đưa ra dự đoán về giá trị nhãn $y$.  \n",
    "\n",
    "4. **Parameters** (Tham số):  \n",
    "   Còn gọi là **trọng số (weights)**, đây là các biến bên trong mô hình cần được học trong quá trình huấn luyện. Tham số thường được ký hiệu là $w$.  \n",
    "\n",
    "5. **Predictions** (Dự đoán):  \n",
    "   Là giá trị mà mô hình dự đoán cho nhãn tương ứng với một quan sát cụ thể, được ký hiệu là $\\hat{y}$. Dự đoán này sẽ được so sánh với giá trị thực để đánh giá hiệu suất của mô hình.  \n",
    "\n",
    "6. **Loss Function** (Hàm lỗi):  \n",
    "   Đây là hàm toán học đo độ chênh lệch giữa giá trị dự đoán $\\hat{y}$ và giá trị thực $y$. Ký hiệu là $L$, hàm lỗi trả về một giá trị thực gọi là độ lỗi (**loss**). Độ lỗi càng nhỏ, mô hình càng hiệu quả. 🎯\n",
    "\n",
    "---\n",
    "\n",
    "Việc bố trí theo dạng danh sách sẽ giúp người đọc dễ dàng tiếp cận và hiểu được các thành phần của bài toán học có giám sát."
   ]
  },
  {
   "cell_type": "markdown",
   "metadata": {},
   "source": [
    "Xem xét tập dữ liệu với $n$ mẫu dữ liệu, kí hiệu là $\\{X_i, y_i\\}_{i=1}^n$. Với bộ dữ liệu này, chúng ta sẽ mong muốn học một hàm (một mô hình) $f$ với các trọng số $w$. Chúng ta sẽ giả định về cấu trúc của $f$ và thực hiện học các trọng số $w$. Cho input $X$, mô hình dự đoán $\\hat{y}$:\n",
    "$$\\hat{y} = f(X, w)$$\n",
    "Trong học có giám sát, cho tập dữ liệu huấn luyện, chúng ta sẽ biết giá trị dự đoán thực $y$ đối với mỗi mẫu dữ liệu. Học có giám sát trở thành một quy trình để tìm ra các trọng số tối ưu $w$ để tối thiểu hóa hàm tổng độ lỗi của $n$ mẫu huấn luyện."
   ]
  },
  {
   "cell_type": "markdown",
   "metadata": {},
   "source": [
    "#### **Observation and Target Encoding** 📚"
   ]
  },
  {
   "cell_type": "markdown",
   "metadata": {},
   "source": [
    "Chúng ta cần biểu diễn các **observation** (văn bản) dưới dạng số để có thể áp dụng các thuật toán học máy. Một cách đơn giản để thực hiện điều này là sử dụng **vector**. 📊 Ban đầu, chúng ta sẽ sử dụng một số phương pháp **count-based representation** cơ bản. Mỗi **count-based representation** đều bắt đầu bằng cách tạo ra một **vector** có độ dài cố định. 🔢"
   ]
  },
  {
   "cell_type": "markdown",
   "metadata": {},
   "source": [
    "##### **One-Hot Representation** 🔥"
   ]
  },
  {
   "cell_type": "markdown",
   "metadata": {},
   "source": [
    "**Biểu diễn one-hot** 🏷️, như tên gọi, bắt đầu với một vector toàn số 0 và gán giá trị 1 vào vị trí tương ứng trong vector nếu từ đó xuất hiện trong câu hoặc tài liệu. Ví dụ, với hai câu sau:\n",
    "\n",
    "- Time flies like an arrow.\n",
    "- Fruit flies like a banana.\n",
    "\n",
    "Khi **token hóa** các câu, bỏ qua dấu câu và chuyển tất cả các từ về chữ thường, ta sẽ có một từ vựng gồm 8 từ: {time, fruit, flies, like, a, an, arrow, banana}. Do đó, mỗi từ có thể được biểu diễn bằng một vector **one-hot** có 8 chiều. 🔢"
   ]
  },
  {
   "cell_type": "code",
   "execution_count": null,
   "metadata": {},
   "outputs": [],
   "source": [
    "from sklearn.feature_extraction.text import CountVectorizer\n",
    "import seaborn as sns\n",
    "import matplotlib.pyplot as plt\n",
    "\n",
    "# Tập văn bản (corpus)\n",
    "corpus = [\n",
    "    'Times flies like an arrow', \n",
    "    'Fruit flies like a banana'\n",
    "]\n",
    "\n",
    "# Sử dụng CountVectorizer với biểu diễn one-hot\n",
    "one_hot_vectorizer = CountVectorizer(binary=True)\n",
    "one_hot = one_hot_vectorizer.fit_transform(corpus).toarray()\n",
    "\n",
    "# Lấy danh sách từ vựng theo thứ tự đã được vector hóa\n",
    "vocab = one_hot_vectorizer.get_feature_names_out()\n",
    "\n",
    "# Tạo biểu đồ heatmap\n",
    "sns.heatmap(one_hot, annot=True, cbar=False, xticklabels=vocab, yticklabels=['Sentence 1', 'Sentence 2'])\n",
    "\n",
    "# Thêm tiêu đề và hiển thị biểu đồ\n",
    "plt.title(\"One-Hot Encoding Heatmap\")\n",
    "plt.xlabel(\"Vocabulary\")\n",
    "plt.ylabel(\"Sentences\")\n",
    "plt.show()"
   ]
  },
  {
   "cell_type": "markdown",
   "metadata": {},
   "source": [
    "##### **TF Representation** 📊"
   ]
  },
  {
   "cell_type": "markdown",
   "metadata": {},
   "source": [
    "Biểu diễn **TF** (Term Frequency) của một cụm từ, câu, hoặc tài liệu đơn giản là tổng của các vector **one-hot** của các từ cấu thành. Để tiếp tục với ví dụ minh họa, sử dụng mã hóa **one-hot** đã đề cập, câu \"Fruit flies like time flies a fruit\" sẽ có biểu diễn **TF** như sau: $[1, 2, 2, 1, 1, 0, 0, 0]$. 🔢\n",
    "\n",
    "Lưu ý rằng mỗi phần tử trong vector này là số lần từ tương ứng xuất hiện trong câu (hoặc **corpus**). Chúng ta ký hiệu **TF** của một từ $w$ là $\\text{TF}(w)$. 📚"
   ]
  },
  {
   "cell_type": "code",
   "execution_count": 9,
   "metadata": {},
   "outputs": [
    {
     "data": {
      "image/png": "[encoded data removed]",
      "text/plain": [
       "<Figure size 640x480 with 1 Axes>"
      ]
     },
     "metadata": {},
     "output_type": "display_data"
    }
   ],
   "source": [
    "from sklearn.feature_extraction.text import CountVectorizer\n",
    "import seaborn as sns\n",
    "import matplotlib.pyplot as plt\n",
    "\n",
    "# Tập văn bản (corpus)\n",
    "corpus = ['Times flies like an arrow. Fruit flies like a banana']\n",
    "\n",
    "# Sử dụng CountVectorizer với biểu diễn one-hot\n",
    "one_hot_vectorizer = CountVectorizer(binary=False)\n",
    "one_hot = one_hot_vectorizer.fit_transform(corpus).toarray()\n",
    "\n",
    "# Lấy danh sách từ vựng theo thứ tự đã được vector hóa\n",
    "vocab = one_hot_vectorizer.get_feature_names_out()\n",
    "\n",
    "# Tạo biểu đồ heatmap\n",
    "sns.heatmap(one_hot, annot=True, cbar=False, xticklabels=vocab)\n",
    "\n",
    "# Thêm tiêu đề và hiển thị biểu đồ\n",
    "plt.title(\"One-Hot Encoding Heatmap\")\n",
    "plt.xlabel(\"Vocabulary\")\n",
    "plt.ylabel(\"Sentences\")\n",
    "plt.show()"
   ]
  },
  {
   "cell_type": "markdown",
   "metadata": {},
   "source": [
    "##### **TF-IDF Representation** 📊"
   ]
  },
  {
   "cell_type": "markdown",
   "metadata": {},
   "source": [
    "Xem xét một tập hợp các tài liệu văn bản, một số từ thường xuyên xuất hiện trong các văn bản đó như các từ đại từ nhân xưng, hoặc các trợ từ. Chúng ta có thể thấy các từ này không mang lại nhiều ý nghĩa khi hiểu một văn bản. Tuy nhiên khi sử dụng các phương pháp biểu diễn như **TF Representation**, ta có thể thấy các trọng số của từ trong câu có thể được đánh rất cao. Do đó, **TF-IDF Representation** ra đời để khắc phục nhược điểm này. 🔄\n",
    "\n",
    "**TF-IDF Representation** ra đời để phạt các từ thường xuyên xuất hiện và thưởng các từ hiếm trong vector representation. 💡\n",
    "\n",
    "**$\\text{IDF}(w)$** của một từ $w$ được định nghĩa trong **corpus** là:\n",
    "$$\\text{IDF}(w) = \\log \\frac{N}{n_w}$$\n",
    "Trong đó:\n",
    "- **$N$**: số tài liệu có trong **corpus**.\n",
    "- **$n_w$**: số tài liệu chứa từ $w$ có trong **corpus**.\n",
    "\n",
    "Trọng số **$\\text{TF-IDF}$** được tính đơn giản theo công thức **$\\text{IDF}(w) \\times \\text{TF}(w)$**."
   ]
  },
  {
   "cell_type": "code",
   "execution_count": 10,
   "metadata": {},
   "outputs": [
    {
     "data": {
      "text/plain": [
       "<Axes: >"
      ]
     },
     "execution_count": 10,
     "metadata": {},
     "output_type": "execute_result"
    },
    {
     "data": {
      "image/png": "[encoded data removed]",
      "text/plain": [
       "<Figure size 640x480 with 1 Axes>"
      ]
     },
     "metadata": {},
     "output_type": "display_data"
    }
   ],
   "source": [
    "from sklearn.feature_extraction.text import TfidfVectorizer\n",
    "import seaborn as sns\n",
    "\n",
    "# Tập văn bản (corpus)\n",
    "corpus = [\n",
    "    'Times flies like an arrow', \n",
    "    'Fruit flies like a banana'\n",
    "]\n",
    "\n",
    "tfidf_vectorizer = TfidfVectorizer()\n",
    "tfidf = tfidf_vectorizer.fit_transform(corpus).toarray()\n",
    "vocab = tfidf_vectorizer.get_feature_names_out()\n",
    "sns.heatmap(tfidf, annot=True, cbar=False, xticklabels=vocab, yticklabels=['Sentence 1', 'Sentence 2'])"
   ]
  },
  {
   "cell_type": "markdown",
   "metadata": {},
   "source": [
    "##### **Target Encoding** 🎯"
   ]
  },
  {
   "cell_type": "markdown",
   "metadata": {},
   "source": [
    "Nhiều bài toán **NLP** sử dụng nhãn phân loại, nơi mô hình dự đoán một nhãn từ tập nhãn cố định. Cách phổ biến để mã hóa là gán một chỉ số duy nhất cho mỗi nhãn, nhưng điều này trở nên khó khăn khi không gian nhãn quá lớn, ví dụ trong bài toán ngôn ngữ mô hình, nơi cần dự đoán từ tiếp theo trong một từ vựng rất lớn. 🤔\n",
    "\n",
    "Một số bài toán **NLP** khác yêu cầu dự đoán giá trị số, như chấm điểm bài luận, đánh giá sao nhà hàng, hoặc dự đoán độ tuổi người dùng từ tweet. Cách tiếp cận đơn giản là đưa giá trị số vào các \"khoảng\" phân loại và xử lý như một bài toán phân loại thứ tự. 📊\n",
    "\n",
    "Việc chọn cách mã hóa nhãn hoặc mục tiêu có ảnh hưởng lớn đến hiệu suất mô hình. 🧠"
   ]
  },
  {
   "cell_type": "markdown",
   "metadata": {},
   "source": [
    "#### **Computational Graphs** 🧮 "
   ]
  },
  {
   "cell_type": "markdown",
   "metadata": {},
   "source": [
    "Về mặt kỹ thuật, **đồ thị tính toán** là một sự trừu tượng mô hình hóa các biểu thức toán học. Trong bối cảnh học sâu, các triển khai đồ thị tính toán (như Theano, TensorFlow và PyTorch) thực hiện thêm việc ghi chép tự động để triển khai phép phân biệt tự động, giúp thu được các **gradient** của tham số trong quá trình huấn luyện theo mô hình học có giám sát. 📊\n",
    "\n",
    "![Text mô tả hình ảnh](./images/chapter_01_figure_02.png)"
   ]
  },
  {
   "cell_type": "markdown",
   "metadata": {},
   "source": [
    "#### **PyTorch Basics** ⚙️"
   ]
  },
  {
   "cell_type": "markdown",
   "metadata": {},
   "source": [
    "##### **Creating Tensors** 🛠️"
   ]
  },
  {
   "cell_type": "code",
   "execution_count": 12,
   "metadata": {},
   "outputs": [],
   "source": [
    "def describe(x):\n",
    "    print(f\"Type: {x.type()}\")\n",
    "    print(f\"Shape/Size: {x.shape}\")\n",
    "    print(f\"Value: {x}\")"
   ]
  },
  {
   "cell_type": "markdown",
   "metadata": {},
   "source": [
    "🌟 **Tạo tensor bằng cách sử dụng shape**"
   ]
  },
  {
   "cell_type": "code",
   "execution_count": 13,
   "metadata": {},
   "outputs": [
    {
     "name": "stdout",
     "output_type": "stream",
     "text": [
      "Type: torch.FloatTensor\n",
      "Shape/Size: torch.Size([2, 3])\n",
      "Value: tensor([[7.5757e-29, 1.0594e-42, 0.0000e+00],\n",
      "        [0.0000e+00, 0.0000e+00, 0.0000e+00]])\n"
     ]
    }
   ],
   "source": [
    "import torch\n",
    "describe(torch.Tensor(2, 3))"
   ]
  },
  {
   "cell_type": "markdown",
   "metadata": {},
   "source": [
    "🎲 **Tạo tensor bằng cách ngẫu nhiên khởi tạo giá trị**"
   ]
  },
  {
   "cell_type": "code",
   "execution_count": 14,
   "metadata": {},
   "outputs": [
    {
     "name": "stdout",
     "output_type": "stream",
     "text": [
      "Type: torch.FloatTensor\n",
      "Shape/Size: torch.Size([2, 3])\n",
      "Value: tensor([[0.0862, 0.0504, 0.4994],\n",
      "        [0.7661, 0.3032, 0.1376]])\n",
      "Type: torch.FloatTensor\n",
      "Shape/Size: torch.Size([2, 3])\n",
      "Value: tensor([[0.4938, 0.9169, 0.9680],\n",
      "        [0.2334, 0.6568, 0.5874]])\n"
     ]
    }
   ],
   "source": [
    "import torch\n",
    "describe(torch.rand(2, 3))\n",
    "describe(torch.rand(2, 3))"
   ]
  },
  {
   "cell_type": "markdown",
   "metadata": {},
   "source": [
    "🔢 **Tạo tensor với toàn bộ phần tử chứa cùng một scalar**\n",
    "\n",
    "Để tạo một tensor với tất cả các phần tử có giá trị giống nhau, PyTorch cung cấp một số hàm tiện ích như `torch.zeros()`, `torch.ones()`, và phương thức `fill_()` để điền một giá trị cụ thể vào các phần tử của tensor.\n",
    "\n",
    "**Lưu ý** ⚡: Bất kỳ hàm nào kết thúc với dấu gạch dưới (`_`) đều là phương thức in-place, có nghĩa là nó sẽ thay đổi tensor hiện tại mà không tạo ra một tensor mới."
   ]
  },
  {
   "cell_type": "code",
   "execution_count": 15,
   "metadata": {},
   "outputs": [
    {
     "name": "stdout",
     "output_type": "stream",
     "text": [
      "Type: torch.FloatTensor\n",
      "Shape/Size: torch.Size([2, 3])\n",
      "Value: tensor([[0., 0., 0.],\n",
      "        [0., 0., 0.]])\n",
      "Type: torch.FloatTensor\n",
      "Shape/Size: torch.Size([2, 3])\n",
      "Value: tensor([[1., 1., 1.],\n",
      "        [1., 1., 1.]])\n",
      "Type: torch.FloatTensor\n",
      "Shape/Size: torch.Size([2, 3])\n",
      "Value: tensor([[5., 5., 5.],\n",
      "        [5., 5., 5.]])\n"
     ]
    }
   ],
   "source": [
    "import torch \n",
    "describe(torch.zeros(2, 3))\n",
    "x = torch.ones(2, 3)\n",
    "describe(x)\n",
    "x.fill_(5)\n",
    "describe(x)"
   ]
  },
  {
   "cell_type": "markdown",
   "metadata": {},
   "source": [
    "📝 **Tạo tensor từ list**\n",
    "\n",
    "Chúng ta có thể dễ dàng tạo một tensor từ một danh sách Python (list). Đây là cách rất hữu ích khi bạn đã có dữ liệu dưới dạng list và muốn chuyển đổi nó thành tensor để sử dụng trong PyTorch.\n",
    "\n",
    "**Lưu ý** 📌: Tensor tạo từ list có cùng kiểu dữ liệu với các phần tử trong list ban đầu."
   ]
  },
  {
   "cell_type": "code",
   "execution_count": 16,
   "metadata": {},
   "outputs": [
    {
     "name": "stdout",
     "output_type": "stream",
     "text": [
      "Type: torch.FloatTensor\n",
      "Shape/Size: torch.Size([2, 3])\n",
      "Value: tensor([[1., 2., 3.],\n",
      "        [4., 5., 6.]])\n"
     ]
    }
   ],
   "source": [
    "x = torch.Tensor([\n",
    "    [1, 2, 3],\n",
    "    [4, 5, 6]\n",
    "])\n",
    "describe(x)"
   ]
  },
  {
   "cell_type": "markdown",
   "metadata": {},
   "source": [
    "📝 **Tạo tensor từ numpy array**\n",
    "\n",
    "Chúng ta có thể dễ dàng chuyển một numpy array thành một tensor trong PyTorch. Điều này rất tiện lợi khi làm việc với dữ liệu đã được xử lý hoặc tính toán trong numpy và muốn chuyển đổi để tiếp tục sử dụng trong các mô hình học sâu."
   ]
  },
  {
   "cell_type": "code",
   "execution_count": 17,
   "metadata": {},
   "outputs": [
    {
     "name": "stdout",
     "output_type": "stream",
     "text": [
      "Type: torch.DoubleTensor\n",
      "Shape/Size: torch.Size([2, 3])\n",
      "Value: tensor([[0.6885, 0.0216, 0.7491],\n",
      "        [0.8410, 0.1279, 0.6647]], dtype=torch.float64)\n"
     ]
    }
   ],
   "source": [
    "import torch\n",
    "import numpy as np\n",
    "\n",
    "npy = np.random.rand(2, 3)\n",
    "describe(torch.from_numpy(npy))"
   ]
  },
  {
   "cell_type": "markdown",
   "metadata": {},
   "source": [
    "##### **Tensor Types and Size** 📏"
   ]
  },
  {
   "cell_type": "markdown",
   "metadata": {},
   "source": [
    "🔹 **Thuộc Tính Của Tensor**  \n",
    "\n",
    "Mỗi **tensor** trong PyTorch có hai thuộc tính chính đi kèm, đó là:  \n",
    "\n",
    "🧮 **Type:**  \n",
    "- **Mặc định:** Khi khởi tạo tensor, kiểu dữ liệu mặc định là `torch.FloatTensor`.  \n",
    "- **Chuyển đổi kiểu dữ liệu:** Có thể chuyển sang các kiểu dữ liệu khác như `float`, `double`, `long`,... bằng các phương thức như `.float()`, `.double()`,...  \n",
    "\n",
    "📐 **Size:**  \n",
    "- Thuộc tính này cung cấp thông tin về **kích thước** hoặc **số chiều** của tensor.  \n",
    "- Sử dụng `.size()` hoặc `.shape` để kiểm tra.  "
   ]
  },
  {
   "cell_type": "code",
   "execution_count": 19,
   "metadata": {},
   "outputs": [
    {
     "name": "stdout",
     "output_type": "stream",
     "text": [
      "Type: torch.DoubleTensor\n",
      "Shape/Size: torch.Size([2, 3])\n",
      "Value: tensor([[1., 2., 3.],\n",
      "        [4., 5., 6.]], dtype=torch.float64)\n"
     ]
    }
   ],
   "source": [
    "x = torch.DoubleTensor([\n",
    "    [1, 2, 3],\n",
    "    [4, 5, 6]\n",
    "])\n",
    "describe(x)"
   ]
  },
  {
   "cell_type": "code",
   "execution_count": 20,
   "metadata": {},
   "outputs": [
    {
     "name": "stdout",
     "output_type": "stream",
     "text": [
      "Type: torch.LongTensor\n",
      "Shape/Size: torch.Size([2, 3])\n",
      "Value: tensor([[1, 2, 3],\n",
      "        [4, 5, 6]])\n"
     ]
    }
   ],
   "source": [
    "x = x.long()\n",
    "describe(x)"
   ]
  },
  {
   "cell_type": "markdown",
   "metadata": {},
   "source": [
    "Khai báo thuộc tin `dtype` để ép kiểu của tensor."
   ]
  },
  {
   "cell_type": "code",
   "execution_count": 22,
   "metadata": {},
   "outputs": [
    {
     "name": "stdout",
     "output_type": "stream",
     "text": [
      "Type: torch.LongTensor\n",
      "Shape/Size: torch.Size([2, 3])\n",
      "Value: tensor([[1, 2, 3],\n",
      "        [4, 5, 6]])\n"
     ]
    }
   ],
   "source": [
    "x = torch.tensor([\n",
    "    [1, 2, 3],\n",
    "    [4, 5, 6]\n",
    "], dtype=torch.int64)\n",
    "describe(x)"
   ]
  },
  {
   "cell_type": "markdown",
   "metadata": {},
   "source": [
    "##### **Tensor Operations** 🔧"
   ]
  },
  {
   "cell_type": "markdown",
   "metadata": {},
   "source": [
    "💡 **Phép Toán Trên Tensor**  \n",
    "\n",
    "Sau khi khởi tạo tensor, bạn có thể thực hiện các **phép tính toán học** bằng cách:  \n",
    "\n",
    "🔢 **Sử dụng toán tử truyền thống:**  \n",
    "- Các toán tử như `+`, `-`, `*`, `/` hoạt động trực tiếp trên các tensor.  \n",
    "\n",
    "🔄 **Sử dụng phương thức hàm:**  \n",
    "- Các phương thức như:  \n",
    "  - `.add()`: thực hiện phép cộng.  \n",
    "  - `.sub()`: thực hiện phép trừ.  \n",
    "  - `.mul()`: thực hiện phép nhân.  \n",
    "  - `.div()`: thực hiện phép chia.  "
   ]
  },
  {
   "cell_type": "code",
   "execution_count": 23,
   "metadata": {},
   "outputs": [
    {
     "name": "stdout",
     "output_type": "stream",
     "text": [
      "Type: torch.FloatTensor\n",
      "Shape/Size: torch.Size([2, 3])\n",
      "Value: tensor([[0.6206, 0.7443, 0.4037],\n",
      "        [0.8365, 0.5958, 0.1227]])\n"
     ]
    }
   ],
   "source": [
    "import torch\n",
    "\n",
    "x = torch.rand(2, 3)\n",
    "describe(x)"
   ]
  },
  {
   "cell_type": "code",
   "execution_count": 24,
   "metadata": {},
   "outputs": [
    {
     "name": "stdout",
     "output_type": "stream",
     "text": [
      "Type: torch.FloatTensor\n",
      "Shape/Size: torch.Size([2, 3])\n",
      "Value: tensor([[1.2411, 1.4885, 0.8074],\n",
      "        [1.6730, 1.1915, 0.2455]])\n"
     ]
    }
   ],
   "source": [
    "describe(torch.add(x, x))"
   ]
  },
  {
   "cell_type": "code",
   "execution_count": 25,
   "metadata": {},
   "outputs": [
    {
     "name": "stdout",
     "output_type": "stream",
     "text": [
      "Type: torch.FloatTensor\n",
      "Shape/Size: torch.Size([2, 3])\n",
      "Value: tensor([[1.2411, 1.4885, 0.8074],\n",
      "        [1.6730, 1.1915, 0.2455]])\n"
     ]
    }
   ],
   "source": [
    "describe(x + x)"
   ]
  },
  {
   "cell_type": "markdown",
   "metadata": {},
   "source": [
    "Chúng ta có thể điều chỉnh chiều của tensor."
   ]
  },
  {
   "cell_type": "code",
   "execution_count": 26,
   "metadata": {},
   "outputs": [
    {
     "name": "stdout",
     "output_type": "stream",
     "text": [
      "Type: torch.LongTensor\n",
      "Shape/Size: torch.Size([6])\n",
      "Value: tensor([0, 1, 2, 3, 4, 5])\n"
     ]
    }
   ],
   "source": [
    "import torch\n",
    "\n",
    "x = torch.arange(6)\n",
    "describe(x)"
   ]
  },
  {
   "cell_type": "code",
   "execution_count": 27,
   "metadata": {},
   "outputs": [
    {
     "name": "stdout",
     "output_type": "stream",
     "text": [
      "Type: torch.LongTensor\n",
      "Shape/Size: torch.Size([2, 3])\n",
      "Value: tensor([[0, 1, 2],\n",
      "        [3, 4, 5]])\n"
     ]
    }
   ],
   "source": [
    "x = x.view(2, 3)\n",
    "describe(x)"
   ]
  },
  {
   "cell_type": "code",
   "execution_count": 28,
   "metadata": {},
   "outputs": [
    {
     "name": "stdout",
     "output_type": "stream",
     "text": [
      "Type: torch.LongTensor\n",
      "Shape/Size: torch.Size([3])\n",
      "Value: tensor([3, 5, 7])\n"
     ]
    }
   ],
   "source": [
    "describe(torch.sum(x, dim=0))"
   ]
  },
  {
   "cell_type": "code",
   "execution_count": 29,
   "metadata": {},
   "outputs": [
    {
     "name": "stdout",
     "output_type": "stream",
     "text": [
      "Type: torch.LongTensor\n",
      "Shape/Size: torch.Size([3, 2])\n",
      "Value: tensor([[0, 3],\n",
      "        [1, 4],\n",
      "        [2, 5]])\n"
     ]
    }
   ],
   "source": [
    "describe(x.transpose(0, 1))"
   ]
  },
  {
   "cell_type": "markdown",
   "metadata": {},
   "source": [
    "##### **Indexing, Slicing and Joining** 🌟"
   ]
  },
  {
   "cell_type": "code",
   "execution_count": 30,
   "metadata": {},
   "outputs": [
    {
     "name": "stdout",
     "output_type": "stream",
     "text": [
      "Type: torch.LongTensor\n",
      "Shape/Size: torch.Size([2, 3])\n",
      "Value: tensor([[0, 1, 2],\n",
      "        [3, 4, 5]])\n"
     ]
    }
   ],
   "source": [
    "import torch\n",
    "\n",
    "x = torch.arange(6).view(2, 3)\n",
    "describe(x)"
   ]
  },
  {
   "cell_type": "code",
   "execution_count": 31,
   "metadata": {},
   "outputs": [
    {
     "name": "stdout",
     "output_type": "stream",
     "text": [
      "Type: torch.LongTensor\n",
      "Shape/Size: torch.Size([1, 2])\n",
      "Value: tensor([[0, 1]])\n"
     ]
    }
   ],
   "source": [
    "describe(x[:1, :2])"
   ]
  },
  {
   "cell_type": "code",
   "execution_count": 34,
   "metadata": {},
   "outputs": [
    {
     "name": "stdout",
     "output_type": "stream",
     "text": [
      "Type: torch.LongTensor\n",
      "Shape/Size: torch.Size([2, 2])\n",
      "Value: tensor([[0, 2],\n",
      "        [3, 5]])\n"
     ]
    }
   ],
   "source": [
    "indices = torch.LongTensor([0, 2])\n",
    "describe(torch.index_select(x, dim=1, index=indices))"
   ]
  },
  {
   "cell_type": "code",
   "execution_count": 35,
   "metadata": {},
   "outputs": [
    {
     "name": "stdout",
     "output_type": "stream",
     "text": [
      "Type: torch.LongTensor\n",
      "Shape/Size: torch.Size([2])\n",
      "Value: tensor([0, 4])\n"
     ]
    }
   ],
   "source": [
    "row_indices = torch.arange(2).long()\n",
    "column_indices = torch.LongTensor([0, 1])\n",
    "describe(x[row_indices, column_indices])"
   ]
  },
  {
   "cell_type": "code",
   "execution_count": 38,
   "metadata": {},
   "outputs": [
    {
     "name": "stdout",
     "output_type": "stream",
     "text": [
      "Type: torch.LongTensor\n",
      "Shape/Size: torch.Size([2, 3])\n",
      "Value: tensor([[0, 1, 2],\n",
      "        [3, 4, 5]])\n"
     ]
    }
   ],
   "source": [
    "import torch \n",
    "x = torch.arange(6).view(2, 3)\n",
    "describe(x)"
   ]
  },
  {
   "cell_type": "code",
   "execution_count": 39,
   "metadata": {},
   "outputs": [
    {
     "name": "stdout",
     "output_type": "stream",
     "text": [
      "Type: torch.LongTensor\n",
      "Shape/Size: torch.Size([4, 3])\n",
      "Value: tensor([[0, 1, 2],\n",
      "        [3, 4, 5],\n",
      "        [0, 1, 2],\n",
      "        [3, 4, 5]])\n"
     ]
    }
   ],
   "source": [
    "describe(torch.cat([x, x], dim=0))"
   ]
  },
  {
   "cell_type": "code",
   "execution_count": 40,
   "metadata": {},
   "outputs": [
    {
     "name": "stdout",
     "output_type": "stream",
     "text": [
      "Type: torch.LongTensor\n",
      "Shape/Size: torch.Size([2, 6])\n",
      "Value: tensor([[0, 1, 2, 0, 1, 2],\n",
      "        [3, 4, 5, 3, 4, 5]])\n"
     ]
    }
   ],
   "source": [
    "describe(torch.cat([x, x], dim=1))"
   ]
  },
  {
   "cell_type": "code",
   "execution_count": 41,
   "metadata": {},
   "outputs": [
    {
     "name": "stdout",
     "output_type": "stream",
     "text": [
      "Type: torch.LongTensor\n",
      "Shape/Size: torch.Size([2, 2, 3])\n",
      "Value: tensor([[[0, 1, 2],\n",
      "         [3, 4, 5]],\n",
      "\n",
      "        [[0, 1, 2],\n",
      "         [3, 4, 5]]])\n"
     ]
    }
   ],
   "source": [
    "describe(torch.stack([x, x]))"
   ]
  },
  {
   "cell_type": "code",
   "execution_count": 46,
   "metadata": {},
   "outputs": [
    {
     "name": "stdout",
     "output_type": "stream",
     "text": [
      "Type: torch.FloatTensor\n",
      "Shape/Size: torch.Size([2, 3])\n",
      "Value: tensor([[0., 1., 2.],\n",
      "        [3., 4., 5.]])\n"
     ]
    }
   ],
   "source": [
    "import torch\n",
    "x1 = torch.arange(6, dtype=torch.float32).view(2, 3)\n",
    "describe(x1)"
   ]
  },
  {
   "cell_type": "code",
   "execution_count": 44,
   "metadata": {},
   "outputs": [
    {
     "name": "stdout",
     "output_type": "stream",
     "text": [
      "Type: torch.FloatTensor\n",
      "Shape/Size: torch.Size([3, 2])\n",
      "Value: tensor([[1., 2.],\n",
      "        [1., 2.],\n",
      "        [1., 2.]])\n"
     ]
    }
   ],
   "source": [
    "x2 = torch.ones(3, 2)\n",
    "x2[:, 1] += 1\n",
    "describe(x2)"
   ]
  },
  {
   "cell_type": "code",
   "execution_count": 47,
   "metadata": {},
   "outputs": [
    {
     "name": "stdout",
     "output_type": "stream",
     "text": [
      "Type: torch.FloatTensor\n",
      "Shape/Size: torch.Size([2, 2])\n",
      "Value: tensor([[ 3.,  6.],\n",
      "        [12., 24.]])\n"
     ]
    }
   ],
   "source": [
    "describe(torch.mm(x1, x2))"
   ]
  },
  {
   "cell_type": "markdown",
   "metadata": {},
   "source": [
    "##### **Tensors and Computational Graphs** 🌐"
   ]
  },
  {
   "cell_type": "markdown",
   "metadata": {},
   "source": [
    "Lớp **Tensor** của PyTorch không chỉ đại diện cho dữ liệu (tensor chính nó) mà còn cung cấp một loạt các phép toán mạnh mẽ, như phép toán đại số, chỉ mục, và thay đổi kích thước.  \n",
    "\n",
    "🔑 Khi cờ Boolean `requires_grad` được thiết lập là `True` trên một tensor:  \n",
    "- 🌟 **Ghi chép phép toán** được kích hoạt, giúp theo dõi toàn bộ các phép toán đã thực hiện trên tensor.  \n",
    "- 📈 **Hàm gradient** được ghi lại tự động, cho phép tính toán gradient một cách dễ dàng.  \n",
    "\n",
    "Cả hai tính năng này rất quan trọng để hỗ trợ quá trình học dựa trên gradient, một nền tảng cốt lõi trong các thuật toán học sâu.  "
   ]
  },
  {
   "cell_type": "code",
   "execution_count": 48,
   "metadata": {},
   "outputs": [
    {
     "name": "stdout",
     "output_type": "stream",
     "text": [
      "Type: torch.FloatTensor\n",
      "Shape/Size: torch.Size([2, 2])\n",
      "Value: tensor([[1., 1.],\n",
      "        [1., 1.]], requires_grad=True)\n",
      "True\n"
     ]
    }
   ],
   "source": [
    "import torch\n",
    "\n",
    "x = torch.ones(2, 2, requires_grad=True)\n",
    "describe(x)\n",
    "print(x.grad is None)"
   ]
  },
  {
   "cell_type": "code",
   "execution_count": 49,
   "metadata": {},
   "outputs": [
    {
     "name": "stdout",
     "output_type": "stream",
     "text": [
      "Type: torch.FloatTensor\n",
      "Shape/Size: torch.Size([2, 2])\n",
      "Value: tensor([[1., 1.],\n",
      "        [1., 1.]], requires_grad=True)\n"
     ]
    }
   ],
   "source": [
    "y = (x + 2) * (x + 5) + 3\n",
    "describe(x)"
   ]
  },
  {
   "cell_type": "code",
   "execution_count": 50,
   "metadata": {},
   "outputs": [
    {
     "name": "stdout",
     "output_type": "stream",
     "text": [
      "Type: torch.FloatTensor\n",
      "Shape/Size: torch.Size([])\n",
      "Value: 21.0\n",
      "False\n"
     ]
    }
   ],
   "source": [
    "z = y.mean()\n",
    "describe(z)\n",
    "z.backward()\n",
    "print(x.grad is None)"
   ]
  },
  {
   "cell_type": "markdown",
   "metadata": {},
   "source": [
    "💡 **Quản lý Gradient với `requires_grad`**  \n",
    "\n",
    "Khi tạo một tensor với **`requires_grad=True`**, bạn yêu cầu PyTorch kích hoạt cơ chế quản lý gradient để hỗ trợ học sâu.  \n",
    "\n",
    "🔎 **Cách hoạt động:**  \n",
    "1. 🚀 Trong quá trình **truyền xuôi**, PyTorch ghi chép toàn bộ các phép toán thực hiện trên tensor.  \n",
    "2. 🎯 Ở bước cuối cùng, một giá trị vô hướng (scalar) thường là **hàm mất mát (loss)** được sử dụng làm đầu vào để thực hiện **truyền ngược (backpropagation)**.  \n",
    "\n",
    "🔄 **Truyền ngược:**  \n",
    "- Được khởi tạo bằng cách gọi phương thức `backward()` trên tensor kết quả từ việc tính toán hàm mất mát.  \n",
    "- PyTorch tự động tính toán gradient của tất cả các tensor có tham số `requires_grad=True`, dựa trên đồ thị tính toán đã ghi lại.  \n"
   ]
  },
  {
   "cell_type": "markdown",
   "metadata": {},
   "source": [
    "#### **CUDA Tensors** 🚀"
   ]
  },
  {
   "cell_type": "markdown",
   "metadata": {},
   "source": [
    "Chúng ta có thể thực hiện các phép tính tensor trên GPU thông qua **CUDA**. PyTorch hỗ trợ việc chuyển tensor từ **CPU** sang **GPU** một cách dễ dàng, đồng thời duy trì kiểu dữ liệu cơ bản của tensor. 🌐\n",
    "\n",
    "Phương pháp khuyến nghị trong PyTorch là viết mã **không phụ thuộc vào thiết bị**, tức là mã có thể hoạt động trên cả GPU lẫn CPU mà không cần chỉnh sửa. 🖥️ ➡️ 🎮"
   ]
  },
  {
   "cell_type": "code",
   "execution_count": 51,
   "metadata": {},
   "outputs": [
    {
     "name": "stdout",
     "output_type": "stream",
     "text": [
      "False\n"
     ]
    }
   ],
   "source": [
    "import torch\n",
    "print(torch.cuda.is_available())"
   ]
  },
  {
   "cell_type": "code",
   "execution_count": 52,
   "metadata": {},
   "outputs": [
    {
     "name": "stdout",
     "output_type": "stream",
     "text": [
      "cpu\n"
     ]
    }
   ],
   "source": [
    "# preferred method: device agnostic tensor instantiation\n",
    "device = torch.device(\"cuda\" if torch.cuda.is_available() else \"cpu\")\n",
    "print (device)"
   ]
  },
  {
   "cell_type": "code",
   "execution_count": 53,
   "metadata": {},
   "outputs": [
    {
     "name": "stdout",
     "output_type": "stream",
     "text": [
      "Type: torch.FloatTensor\n",
      "Shape/Size: torch.Size([3, 3])\n",
      "Value: tensor([[0.2209, 0.1879, 0.2636],\n",
      "        [0.2609, 0.9136, 0.4729],\n",
      "        [0.7952, 0.9545, 0.7594]])\n"
     ]
    }
   ],
   "source": [
    "x = torch.rand(3, 3).to(device)\n",
    "describe(x)"
   ]
  }
 ],
 "metadata": {
  "kernelspec": {
   "display_name": "aic2024-env",
   "language": "python",
   "name": "python3"
  },
  "language_info": {
   "codemirror_mode": {
    "name": "ipython",
    "version": 3
   },
   "file_extension": ".py",
   "mimetype": "text/x-python",
   "name": "python",
   "nbconvert_exporter": "python",
   "pygments_lexer": "ipython3",
   "version": "3.8.19"
  }
 },
 "nbformat": 4,
 "nbformat_minor": 2
}
